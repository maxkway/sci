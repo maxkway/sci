{
 "cells": [
  {
   "cell_type": "markdown",
   "id": "d3323b62",
   "metadata": {},
   "source": [
    "# Compute Berezenian of sadle manifold\n",
    "$$\\displaystyle Q=U_{\\eta }^{-1} Q_{0} U_{\\eta } ,\\ Q_{0} \\ =\\ \\Lambda e^{W}, \\; \\{W,\\Lambda\\}=0, [U_\\eta, \\Lambda]=0$$\n",
    "\n",
    "\\begin{equation*}\n",
    "Q_{0}{}_{FF} =\\begin{pmatrix}\n",
    "cos\\theta _{F} & ie^{i\\phi _{F}}\\sin \\theta _{F}\\\\\n",
    "-ie^{-i\\phi _{F}}\\sin \\theta _{F} & -cos\\theta _{F}\n",
    "\\end{pmatrix} ,\\ Q_{0}{}_{BB} =\\begin{pmatrix}\n",
    "\\cosh \\ \\theta _{B} & e^{i\\phi _{B}}\\sinh \\theta _{B}\\\\\n",
    "-e^{-i\\phi _{B}}\\sinh \\theta _{B} & -\\cosh \\ \\theta _{B}\n",
    "\\end{pmatrix}\n",
    "\\end{equation*}\n",
    "\n",
    "\\begin{equation*}\n",
    "U_{\\eta }^{RR} =\\begin{pmatrix}\n",
    "1\\ +\\frac{\\eta _{FB}^{RR} \\eta _{BF}^{RR}}{2} & \\eta _{FB}^{RR}\\\\\n",
    "-\\eta _{BF}^{RR} & 1\\ +\\frac{\\eta _{BF}^{RR} \\eta _{FB}^{RR}}{2}\n",
    "\\end{pmatrix} \\Longrightarrow Q\\ =\\ \\begin{pmatrix}\n",
    "U{_{\\eta }^{-1}}^{RR} Q{_{0}}^{RR} U{_{\\eta }}^{RR} & U{_{\\eta }^{-1}}^{RR} Q{_{0}}^{RA} U{_{\\eta }}^{AR}\\\\\n",
    "U{_{\\eta }^{-1}}^{AA} Q{_{0}}^{AR} U{_{\\eta }}^{RR} & U{_{\\eta }^{-1}}^{AA} Q{_{0}}^{AA} U{_{\\eta }}^{AA}\n",
    "\\end{pmatrix}\n",
    "\\end{equation*}\n",
    "\n",
    "Length square is\n",
    "\\begin{equation*}\n",
    "dl^2 = \\text{str} \\ \\text{(d} Q)^{2} \\ =\\ \\text{str} \\ \\text{(d} Q^{RR})^{2} \\ +\\ \\text{(d} Q^{AA})^{2} \\ +\\ \\text{d} Q^{AR}\\text{d} Q^{RA} +\\ \\text{d} Q^{RA}\\text{d} Q^{AR}\n",
    "\\end{equation*}\n",
    "\n",
    "Quadratic form\n",
    "$$\n",
    "dl^2 = d\\Phi_i M_{ij} d\\Phi_j\n",
    "$$\n",
    "with supermatrix $M$, berezenian is $1/\\sqrt{sdet M}$"
   ]
  },
  {
   "cell_type": "code",
   "execution_count": 1,
   "id": "59c0d28f",
   "metadata": {
    "ExecuteTime": {
     "end_time": "2023-03-24T09:14:56.758879Z",
     "start_time": "2023-03-24T09:14:56.368019Z"
    }
   },
   "outputs": [],
   "source": [
    "# Make grassman algebra\n",
    "\n",
    "\n",
    "from sympy import Symbol, S\n",
    "\n",
    "class AnticomSym(Symbol):\n",
    "    def __new__(cls,*args,**kwargs):\n",
    "        return super().__new__(cls,*args,**kwargs,commutative=False)\n",
    "\n",
    "    def __mul__(self,other):\n",
    "        if isinstance(other,AnticomSym):\n",
    "            if other==self:\n",
    "                return S.Zero\n",
    "            elif other.name<self.name:\n",
    "                return -Symbol.__mul__(other,self)\n",
    "\n",
    "        return super().__mul__(other)\n",
    "\n",
    "    def __pow__(self,exponent):\n",
    "        if exponent>=2:\n",
    "            return S.Zero\n",
    "        else:\n",
    "            return super().__pow__(exponent)\n",
    "        \n",
    "def sort_product(product): # simplify complex prodact like x*y*x = - x*x*y = 0 \n",
    "    while True:\n",
    "        if not isinstance(product,Mul):\n",
    "            return product\n",
    "\n",
    "        arglist = list(product.args)\n",
    "        i = 0\n",
    "        while i < len(arglist)-1:\n",
    "            slice_prod = arglist[i]*arglist[i+1]\n",
    "            is_mul = isinstance(slice_prod,Mul)\n",
    "            arglist[i:i+2] = slice_prod.args if is_mul else [slice_prod]\n",
    "            i += 1\n",
    "\n",
    "        new_product = Mul(*arglist)\n",
    "        if product == new_product:\n",
    "            return new_product\n",
    "        product = new_product\n",
    "        \n",
    "        \n",
    "def sort_products(expr): # reccurent simplify complex expresion\n",
    "    if expr.is_Atom:\n",
    "        return expr\n",
    "    else:\n",
    "        simplified_args = (sort_products(arg) for arg in expr.args)\n",
    "        if isinstance(expr,Mul):\n",
    "            return sort_product(Mul(*simplified_args))\n",
    "        else:\n",
    "            return expr.func(*simplified_args)"
   ]
  },
  {
   "cell_type": "code",
   "execution_count": 2,
   "id": "6dbccf18",
   "metadata": {
    "ExecuteTime": {
     "end_time": "2023-03-24T09:14:56.813141Z",
     "start_time": "2023-03-24T09:14:56.806567Z"
    }
   },
   "outputs": [],
   "source": [
    "from sympy import *"
   ]
  },
  {
   "cell_type": "code",
   "execution_count": 3,
   "id": "dfdbe6c5",
   "metadata": {
    "ExecuteTime": {
     "end_time": "2023-03-24T09:14:57.180134Z",
     "start_time": "2023-03-24T09:14:57.173833Z"
    }
   },
   "outputs": [],
   "source": [
    "# Define grassman vars with diff\n",
    "\n",
    "eta_RRFB = AnticomSym(\"eta_RRFB\")\n",
    "deta_RRFB = AnticomSym(\"d\\\\eta_RRFB\")\n",
    "\n",
    "eta_RRBF = AnticomSym(\"eta_RRBF\")\n",
    "deta_RRBF = AnticomSym(\"d\\\\eta_RRBF\")\n",
    "\n",
    "eta_AAFB = AnticomSym(\"eta_AAFB\")\n",
    "deta_AAFB = AnticomSym(\"d\\\\eta_AAFB\")\n",
    "\n",
    "eta_AABF = AnticomSym(\"eta_AABF\")\n",
    "deta_AABF = AnticomSym(\"d\\\\eta_AABF\")\n",
    "\n",
    "anticomute_var = {'eta_RRFB': (eta_RRFB, deta_RRFB),'eta_RRBF': (eta_RRBF, deta_RRBF),\n",
    "                  'eta_AAFB': (eta_AAFB, deta_AAFB),'eta_AABF': (eta_AABF, deta_AABF)} "
   ]
  },
  {
   "cell_type": "code",
   "execution_count": 5,
   "id": "5dc087ef",
   "metadata": {
    "ExecuteTime": {
     "end_time": "2023-03-24T09:14:58.299451Z",
     "start_time": "2023-03-24T09:14:58.284797Z"
    }
   },
   "outputs": [
    {
     "data": {
      "text/latex": [
       "$\\displaystyle \\left[\\begin{matrix}0 & \\eta_{RRFB}\\\\\\eta_{RRBF} & 0\\end{matrix}\\right]$"
      ],
      "text/plain": [
       "Matrix([\n",
       "[       0, eta_RRFB],\n",
       "[eta_RRBF,        0]])"
      ]
     },
     "execution_count": 5,
     "metadata": {},
     "output_type": "execute_result"
    }
   ],
   "source": [
    "# Define grasman generator\n",
    "W_2_RRFB = Matrix([[0, eta_RRFB],[eta_RRBF, 0]])\n",
    "W_2_RRFB"
   ]
  },
  {
   "cell_type": "code",
   "execution_count": 6,
   "id": "e0d3f20b",
   "metadata": {
    "ExecuteTime": {
     "end_time": "2023-03-24T09:14:59.746547Z",
     "start_time": "2023-03-24T09:14:59.447147Z"
    }
   },
   "outputs": [
    {
     "data": {
      "text/latex": [
       "$\\displaystyle \\left[\\begin{matrix}1 - \\frac{\\eta_{RRBF} \\eta_{RRFB}}{2} & \\eta_{RRFB}\\\\\\eta_{RRBF} & 1 + \\frac{\\eta_{RRBF} \\eta_{RRFB}}{2}\\end{matrix}\\right]$"
      ],
      "text/plain": [
       "Matrix([\n",
       "[1 - eta_RRBF*eta_RRFB/2,                eta_RRFB],\n",
       "[               eta_RRBF, 1 + eta_RRBF*eta_RRFB/2]])"
      ]
     },
     "execution_count": 6,
     "metadata": {},
     "output_type": "execute_result"
    }
   ],
   "source": [
    "# End group element\n",
    "U_eta_RR =eye(2)+ W_2_RRFB + W_2_RRFB**2/2\n",
    "U_eta_RR"
   ]
  },
  {
   "cell_type": "code",
   "execution_count": 7,
   "id": "2586c666",
   "metadata": {
    "ExecuteTime": {
     "end_time": "2023-03-24T09:14:59.940322Z",
     "start_time": "2023-03-24T09:14:59.925522Z"
    }
   },
   "outputs": [
    {
     "data": {
      "text/latex": [
       "$\\displaystyle \\left[\\begin{matrix}1 - \\frac{\\eta_{RRBF} \\eta_{RRFB}}{2} & - \\eta_{RRFB}\\\\- \\eta_{RRBF} & 1 + \\frac{\\eta_{RRBF} \\eta_{RRFB}}{2}\\end{matrix}\\right]$"
      ],
      "text/plain": [
       "Matrix([\n",
       "[1 - eta_RRBF*eta_RRFB/2,               -eta_RRFB],\n",
       "[              -eta_RRBF, 1 + eta_RRBF*eta_RRFB/2]])"
      ]
     },
     "execution_count": 7,
     "metadata": {},
     "output_type": "execute_result"
    }
   ],
   "source": [
    "U_eta_RR_inv = eye(2) -  W_2_RRFB + W_2_RRFB**2/2\n",
    "U_eta_RR_inv"
   ]
  },
  {
   "cell_type": "code",
   "execution_count": 8,
   "id": "653fb43a",
   "metadata": {
    "ExecuteTime": {
     "end_time": "2023-03-24T09:15:00.147911Z",
     "start_time": "2023-03-24T09:15:00.141103Z"
    }
   },
   "outputs": [],
   "source": [
    "# Def commute vars\n",
    "theta_F, phi_F = symbols('theta_F, phi_F', real=True)\n",
    "theta_B, phi_B = symbols('theta_B, phi_B', real=True)\n",
    "\n",
    "dtheta_F, dphi_F = symbols(r'd\\theta_F, d\\phi_F', real=True)\n",
    "dtheta_B, dphi_B = symbols(r'd\\theta_B, d\\phi_B', real=True)\n",
    "\n",
    "comute_var = {'theta_F': (theta_F, dtheta_F), 'theta_B': (theta_B, dtheta_B), \n",
    "              'phi_F':(phi_F, dphi_F), 'phi_B':(phi_B, dphi_B)} "
   ]
  },
  {
   "cell_type": "code",
   "execution_count": 10,
   "id": "a2c527e1",
   "metadata": {
    "ExecuteTime": {
     "end_time": "2023-03-24T09:15:00.476905Z",
     "start_time": "2023-03-24T09:15:00.471245Z"
    }
   },
   "outputs": [],
   "source": [
    "# Def Q_0\n",
    "Q_0_RR = Matrix([[cos(theta_F),0],[0, cosh(theta_B)]])\n",
    "Q_0_RR"
   ]
  },
  {
   "cell_type": "code",
   "execution_count": 13,
   "id": "8b59c6e6",
   "metadata": {
    "ExecuteTime": {
     "end_time": "2023-03-24T09:15:00.879014Z",
     "start_time": "2023-03-24T09:15:00.841909Z"
    }
   },
   "outputs": [
    {
     "data": {
      "text/latex": [
       "$\\displaystyle \\left[\\begin{matrix}\\cos{\\left(\\theta_{F} \\right)} - \\cos{\\left(\\theta_{F} \\right)} \\eta_{RRBF} \\eta_{RRFB} + \\cosh{\\left(\\theta_{B} \\right)} \\eta_{RRBF} \\eta_{RRFB} & \\cos{\\left(\\theta_{F} \\right)} \\eta_{RRFB} - \\cosh{\\left(\\theta_{B} \\right)} \\eta_{RRFB}\\\\- \\cos{\\left(\\theta_{F} \\right)} \\eta_{RRBF} + \\cosh{\\left(\\theta_{B} \\right)} \\eta_{RRBF} & - \\cos{\\left(\\theta_{F} \\right)} \\eta_{RRBF} \\eta_{RRFB} + \\cosh{\\left(\\theta_{B} \\right)} + \\cosh{\\left(\\theta_{B} \\right)} \\eta_{RRBF} \\eta_{RRFB}\\end{matrix}\\right]$"
      ],
      "text/plain": [
       "Matrix([\n",
       "[cos(theta_F) - cos(theta_F)*eta_RRBF*eta_RRFB + cosh(theta_B)*eta_RRBF*eta_RRFB,                                    cos(theta_F)*eta_RRFB - cosh(theta_B)*eta_RRFB],\n",
       "[                                -cos(theta_F)*eta_RRBF + cosh(theta_B)*eta_RRBF, -cos(theta_F)*eta_RRBF*eta_RRFB + cosh(theta_B) + cosh(theta_B)*eta_RRBF*eta_RRFB]])"
      ]
     },
     "execution_count": 13,
     "metadata": {},
     "output_type": "execute_result"
    }
   ],
   "source": [
    "# Find Q_RR\n",
    "\n",
    "Q_RR = sort_products(expand(U_eta_RR_inv @ Q_0_RR @ U_eta_RR))\n",
    "Q_RR"
   ]
  },
  {
   "cell_type": "code",
   "execution_count": 14,
   "id": "97fd8b33",
   "metadata": {
    "ExecuteTime": {
     "end_time": "2023-03-24T09:15:00.976780Z",
     "start_time": "2023-03-24T09:15:00.967450Z"
    }
   },
   "outputs": [
    {
     "data": {
      "text/latex": [
       "$\\displaystyle \\left[\\begin{matrix}0 & \\eta_{AAFB}\\\\\\eta_{AABF} & 0\\end{matrix}\\right]$"
      ],
      "text/plain": [
       "Matrix([\n",
       "[       0, eta_AAFB],\n",
       "[eta_AABF,        0]])"
      ]
     },
     "execution_count": 14,
     "metadata": {},
     "output_type": "execute_result"
    }
   ],
   "source": [
    "# same steps for AA\n",
    "W_2_AAFB = Matrix([[0, eta_AAFB],[eta_AABF, 0]])\n",
    "W_2_AAFB"
   ]
  },
  {
   "cell_type": "code",
   "execution_count": 15,
   "id": "868d35be",
   "metadata": {
    "ExecuteTime": {
     "end_time": "2023-03-24T09:15:01.119153Z",
     "start_time": "2023-03-24T09:15:01.099640Z"
    }
   },
   "outputs": [
    {
     "data": {
      "text/latex": [
       "$\\displaystyle \\left[\\begin{matrix}1 - \\frac{\\eta_{AABF} \\eta_{AAFB}}{2} & \\eta_{AAFB}\\\\\\eta_{AABF} & 1 + \\frac{\\eta_{AABF} \\eta_{AAFB}}{2}\\end{matrix}\\right]$"
      ],
      "text/plain": [
       "Matrix([\n",
       "[1 - eta_AABF*eta_AAFB/2,                eta_AAFB],\n",
       "[               eta_AABF, 1 + eta_AABF*eta_AAFB/2]])"
      ]
     },
     "execution_count": 15,
     "metadata": {},
     "output_type": "execute_result"
    }
   ],
   "source": [
    "U_eta_AA =eye(2)+ W_2_AAFB + W_2_AAFB**2/2\n",
    "U_eta_AA"
   ]
  },
  {
   "cell_type": "code",
   "execution_count": 16,
   "id": "f131e551",
   "metadata": {
    "ExecuteTime": {
     "end_time": "2023-03-24T09:15:01.211787Z",
     "start_time": "2023-03-24T09:15:01.197413Z"
    }
   },
   "outputs": [
    {
     "data": {
      "text/latex": [
       "$\\displaystyle \\left[\\begin{matrix}1 - \\frac{\\eta_{AABF} \\eta_{AAFB}}{2} & - \\eta_{AAFB}\\\\- \\eta_{AABF} & 1 + \\frac{\\eta_{AABF} \\eta_{AAFB}}{2}\\end{matrix}\\right]$"
      ],
      "text/plain": [
       "Matrix([\n",
       "[1 - eta_AABF*eta_AAFB/2,               -eta_AAFB],\n",
       "[              -eta_AABF, 1 + eta_AABF*eta_AAFB/2]])"
      ]
     },
     "execution_count": 16,
     "metadata": {},
     "output_type": "execute_result"
    }
   ],
   "source": [
    "U_eta_AA_inv = eye(2) -  W_2_AAFB + W_2_AAFB**2/2\n",
    "U_eta_AA_inv"
   ]
  },
  {
   "cell_type": "code",
   "execution_count": 17,
   "id": "5c156018",
   "metadata": {
    "ExecuteTime": {
     "end_time": "2023-03-24T09:15:01.324282Z",
     "start_time": "2023-03-24T09:15:01.319114Z"
    }
   },
   "outputs": [],
   "source": [
    "Q_0_AA = - Q_0_RR\n",
    "Q_0_AA"
   ]
  },
  {
   "cell_type": "code",
   "execution_count": 19,
   "id": "05d89568",
   "metadata": {
    "ExecuteTime": {
     "end_time": "2023-03-24T09:15:01.599404Z",
     "start_time": "2023-03-24T09:15:01.564725Z"
    }
   },
   "outputs": [
    {
     "data": {
      "text/latex": [
       "$\\displaystyle \\left[\\begin{matrix}- \\cos{\\left(\\theta_{F} \\right)} + \\cos{\\left(\\theta_{F} \\right)} \\eta_{AABF} \\eta_{AAFB} - \\cosh{\\left(\\theta_{B} \\right)} \\eta_{AABF} \\eta_{AAFB} & - \\cos{\\left(\\theta_{F} \\right)} \\eta_{AAFB} + \\cosh{\\left(\\theta_{B} \\right)} \\eta_{AAFB}\\\\\\cos{\\left(\\theta_{F} \\right)} \\eta_{AABF} - \\cosh{\\left(\\theta_{B} \\right)} \\eta_{AABF} & \\cos{\\left(\\theta_{F} \\right)} \\eta_{AABF} \\eta_{AAFB} - \\cosh{\\left(\\theta_{B} \\right)} - \\cosh{\\left(\\theta_{B} \\right)} \\eta_{AABF} \\eta_{AAFB}\\end{matrix}\\right]$"
      ],
      "text/plain": [
       "Matrix([\n",
       "[-cos(theta_F) + cos(theta_F)*eta_AABF*eta_AAFB - cosh(theta_B)*eta_AABF*eta_AAFB,                                  -cos(theta_F)*eta_AAFB + cosh(theta_B)*eta_AAFB],\n",
       "[                                  cos(theta_F)*eta_AABF - cosh(theta_B)*eta_AABF, cos(theta_F)*eta_AABF*eta_AAFB - cosh(theta_B) - cosh(theta_B)*eta_AABF*eta_AAFB]])"
      ]
     },
     "execution_count": 19,
     "metadata": {},
     "output_type": "execute_result"
    }
   ],
   "source": [
    "Q_AA = sort_products(expand(U_eta_AA_inv @ Q_0_AA @ U_eta_AA))\n",
    "Q_AA"
   ]
  },
  {
   "cell_type": "code",
   "execution_count": 20,
   "id": "36b1ab07",
   "metadata": {
    "ExecuteTime": {
     "end_time": "2023-03-24T09:15:01.702081Z",
     "start_time": "2023-03-24T09:15:01.679046Z"
    }
   },
   "outputs": [
    {
     "data": {
      "text/latex": [
       "$\\displaystyle \\left[\\begin{matrix}i e^{i \\phi_{F}} \\sin{\\left(\\theta_{F} \\right)} & 0\\\\0 & e^{i \\phi_{B}} \\sinh{\\left(\\theta_{B} \\right)}\\end{matrix}\\right]$"
      ],
      "text/plain": [
       "Matrix([\n",
       "[I*exp(I*phi_F)*sin(theta_F),                          0],\n",
       "[                          0, exp(I*phi_B)*sinh(theta_B)]])"
      ]
     },
     "execution_count": 20,
     "metadata": {},
     "output_type": "execute_result"
    }
   ],
   "source": [
    "## Make off diag Q\n",
    "Q_0_RA = Matrix([[I*exp(I*phi_F)*sin(theta_F),0],[0, exp(I*phi_B)*sinh(theta_B)]]) \n",
    "Q_0_RA"
   ]
  },
  {
   "cell_type": "code",
   "execution_count": 21,
   "id": "a34d010b",
   "metadata": {
    "ExecuteTime": {
     "end_time": "2023-03-24T09:15:01.883969Z",
     "start_time": "2023-03-24T09:15:01.803498Z"
    }
   },
   "outputs": [
    {
     "data": {
      "text/latex": [
       "$\\displaystyle \\left[\\begin{matrix}e^{i \\phi_{B}} \\sinh{\\left(\\theta_{B} \\right)} \\eta_{AABF} \\eta_{RRFB} + i e^{i \\phi_{F}} \\sin{\\left(\\theta_{F} \\right)} - \\frac{i e^{i \\phi_{F}} \\sin{\\left(\\theta_{F} \\right)} \\eta_{AABF} \\eta_{AAFB}}{2} + \\frac{i e^{i \\phi_{F}} \\sin{\\left(\\theta_{F} \\right)} \\eta_{AABF} \\eta_{AAFB} \\eta_{RRBF} \\eta_{RRFB}}{4} - \\frac{i e^{i \\phi_{F}} \\sin{\\left(\\theta_{F} \\right)} \\eta_{RRBF} \\eta_{RRFB}}{2} & - \\frac{e^{i \\phi_{B}} \\sinh{\\left(\\theta_{B} \\right)} \\eta_{AABF} \\eta_{AAFB} \\eta_{RRFB}}{2} - e^{i \\phi_{B}} \\sinh{\\left(\\theta_{B} \\right)} \\eta_{RRFB} + i e^{i \\phi_{F}} \\sin{\\left(\\theta_{F} \\right)} \\eta_{AAFB} - \\frac{i e^{i \\phi_{F}} \\sin{\\left(\\theta_{F} \\right)} \\eta_{AAFB} \\eta_{RRBF} \\eta_{RRFB}}{2}\\\\e^{i \\phi_{B}} \\sinh{\\left(\\theta_{B} \\right)} \\eta_{AABF} + \\frac{e^{i \\phi_{B}} \\sinh{\\left(\\theta_{B} \\right)} \\eta_{AABF} \\eta_{RRBF} \\eta_{RRFB}}{2} + \\frac{i e^{i \\phi_{F}} \\sin{\\left(\\theta_{F} \\right)} \\eta_{AABF} \\eta_{AAFB} \\eta_{RRBF}}{2} - i e^{i \\phi_{F}} \\sin{\\left(\\theta_{F} \\right)} \\eta_{RRBF} & e^{i \\phi_{B}} \\sinh{\\left(\\theta_{B} \\right)} + \\frac{e^{i \\phi_{B}} \\sinh{\\left(\\theta_{B} \\right)} \\eta_{AABF} \\eta_{AAFB}}{2} + \\frac{e^{i \\phi_{B}} \\sinh{\\left(\\theta_{B} \\right)} \\eta_{AABF} \\eta_{AAFB} \\eta_{RRBF} \\eta_{RRFB}}{4} + \\frac{e^{i \\phi_{B}} \\sinh{\\left(\\theta_{B} \\right)} \\eta_{RRBF} \\eta_{RRFB}}{2} + i e^{i \\phi_{F}} \\sin{\\left(\\theta_{F} \\right)} \\eta_{AAFB} \\eta_{RRBF}\\end{matrix}\\right]$"
      ],
      "text/plain": [
       "Matrix([\n",
       "[exp(I*phi_B)*sinh(theta_B)*eta_AABF*eta_RRFB + I*exp(I*phi_F)*sin(theta_F) - I*exp(I*phi_F)*sin(theta_F)*eta_AABF*eta_AAFB/2 + I*exp(I*phi_F)*sin(theta_F)*eta_AABF*eta_AAFB*eta_RRBF*eta_RRFB/4 - I*exp(I*phi_F)*sin(theta_F)*eta_RRBF*eta_RRFB/2,                                                -exp(I*phi_B)*sinh(theta_B)*eta_AABF*eta_AAFB*eta_RRFB/2 - exp(I*phi_B)*sinh(theta_B)*eta_RRFB + I*exp(I*phi_F)*sin(theta_F)*eta_AAFB - I*exp(I*phi_F)*sin(theta_F)*eta_AAFB*eta_RRBF*eta_RRFB/2],\n",
       "[                                                   exp(I*phi_B)*sinh(theta_B)*eta_AABF + exp(I*phi_B)*sinh(theta_B)*eta_AABF*eta_RRBF*eta_RRFB/2 + I*exp(I*phi_F)*sin(theta_F)*eta_AABF*eta_AAFB*eta_RRBF/2 - I*exp(I*phi_F)*sin(theta_F)*eta_RRBF, exp(I*phi_B)*sinh(theta_B) + exp(I*phi_B)*sinh(theta_B)*eta_AABF*eta_AAFB/2 + exp(I*phi_B)*sinh(theta_B)*eta_AABF*eta_AAFB*eta_RRBF*eta_RRFB/4 + exp(I*phi_B)*sinh(theta_B)*eta_RRBF*eta_RRFB/2 + I*exp(I*phi_F)*sin(theta_F)*eta_AAFB*eta_RRBF]])"
      ]
     },
     "execution_count": 21,
     "metadata": {},
     "output_type": "execute_result"
    }
   ],
   "source": [
    "Q_RA = sort_products(expand(U_eta_RR_inv @ Q_0_RA @ U_eta_AA))\n",
    "Q_RA"
   ]
  },
  {
   "cell_type": "code",
   "execution_count": 22,
   "id": "2d28553d",
   "metadata": {
    "ExecuteTime": {
     "end_time": "2023-03-24T09:15:01.922847Z",
     "start_time": "2023-03-24T09:15:01.906738Z"
    }
   },
   "outputs": [
    {
     "data": {
      "text/latex": [
       "$\\displaystyle \\left[\\begin{matrix}- i e^{- i \\phi_{F}} \\sin{\\left(\\theta_{F} \\right)} & 0\\\\0 & - e^{- i \\phi_{B}} \\sinh{\\left(\\theta_{B} \\right)}\\end{matrix}\\right]$"
      ],
      "text/plain": [
       "Matrix([\n",
       "[-I*exp(-I*phi_F)*sin(theta_F),                            0],\n",
       "[                            0, -exp(-I*phi_B)*sinh(theta_B)]])"
      ]
     },
     "execution_count": 22,
     "metadata": {},
     "output_type": "execute_result"
    }
   ],
   "source": [
    "Q_0_AR = -Matrix([[I*exp(-I*phi_F)*sin(theta_F),0],[0, exp(-I*phi_B)*sinh(theta_B)]]) \n",
    "Q_0_AR"
   ]
  },
  {
   "cell_type": "code",
   "execution_count": 23,
   "id": "a905a75a",
   "metadata": {
    "ExecuteTime": {
     "end_time": "2023-03-24T09:15:02.121861Z",
     "start_time": "2023-03-24T09:15:02.050255Z"
    }
   },
   "outputs": [
    {
     "data": {
      "text/latex": [
       "$\\displaystyle \\left[\\begin{matrix}- i e^{- i \\phi_{F}} \\sin{\\left(\\theta_{F} \\right)} + \\frac{i e^{- i \\phi_{F}} \\sin{\\left(\\theta_{F} \\right)} \\eta_{AABF} \\eta_{AAFB}}{2} - \\frac{i e^{- i \\phi_{F}} \\sin{\\left(\\theta_{F} \\right)} \\eta_{AABF} \\eta_{AAFB} \\eta_{RRBF} \\eta_{RRFB}}{4} + \\frac{i e^{- i \\phi_{F}} \\sin{\\left(\\theta_{F} \\right)} \\eta_{RRBF} \\eta_{RRFB}}{2} + e^{- i \\phi_{B}} \\sinh{\\left(\\theta_{B} \\right)} \\eta_{AAFB} \\eta_{RRBF} & \\frac{i e^{- i \\phi_{F}} \\sin{\\left(\\theta_{F} \\right)} \\eta_{AABF} \\eta_{AAFB} \\eta_{RRFB}}{2} - i e^{- i \\phi_{F}} \\sin{\\left(\\theta_{F} \\right)} \\eta_{RRFB} + e^{- i \\phi_{B}} \\sinh{\\left(\\theta_{B} \\right)} \\eta_{AAFB} + \\frac{e^{- i \\phi_{B}} \\sinh{\\left(\\theta_{B} \\right)} \\eta_{AAFB} \\eta_{RRBF} \\eta_{RRFB}}{2}\\\\i e^{- i \\phi_{F}} \\sin{\\left(\\theta_{F} \\right)} \\eta_{AABF} - \\frac{i e^{- i \\phi_{F}} \\sin{\\left(\\theta_{F} \\right)} \\eta_{AABF} \\eta_{RRBF} \\eta_{RRFB}}{2} - \\frac{e^{- i \\phi_{B}} \\sinh{\\left(\\theta_{B} \\right)} \\eta_{AABF} \\eta_{AAFB} \\eta_{RRBF}}{2} - e^{- i \\phi_{B}} \\sinh{\\left(\\theta_{B} \\right)} \\eta_{RRBF} & i e^{- i \\phi_{F}} \\sin{\\left(\\theta_{F} \\right)} \\eta_{AABF} \\eta_{RRFB} - e^{- i \\phi_{B}} \\sinh{\\left(\\theta_{B} \\right)} - \\frac{e^{- i \\phi_{B}} \\sinh{\\left(\\theta_{B} \\right)} \\eta_{AABF} \\eta_{AAFB}}{2} - \\frac{e^{- i \\phi_{B}} \\sinh{\\left(\\theta_{B} \\right)} \\eta_{AABF} \\eta_{AAFB} \\eta_{RRBF} \\eta_{RRFB}}{4} - \\frac{e^{- i \\phi_{B}} \\sinh{\\left(\\theta_{B} \\right)} \\eta_{RRBF} \\eta_{RRFB}}{2}\\end{matrix}\\right]$"
      ],
      "text/plain": [
       "Matrix([\n",
       "[-I*exp(-I*phi_F)*sin(theta_F) + I*exp(-I*phi_F)*sin(theta_F)*eta_AABF*eta_AAFB/2 - I*exp(-I*phi_F)*sin(theta_F)*eta_AABF*eta_AAFB*eta_RRBF*eta_RRFB/4 + I*exp(-I*phi_F)*sin(theta_F)*eta_RRBF*eta_RRFB/2 + exp(-I*phi_B)*sinh(theta_B)*eta_AAFB*eta_RRBF,                                                  I*exp(-I*phi_F)*sin(theta_F)*eta_AABF*eta_AAFB*eta_RRFB/2 - I*exp(-I*phi_F)*sin(theta_F)*eta_RRFB + exp(-I*phi_B)*sinh(theta_B)*eta_AAFB + exp(-I*phi_B)*sinh(theta_B)*eta_AAFB*eta_RRBF*eta_RRFB/2],\n",
       "[                                                     I*exp(-I*phi_F)*sin(theta_F)*eta_AABF - I*exp(-I*phi_F)*sin(theta_F)*eta_AABF*eta_RRBF*eta_RRFB/2 - exp(-I*phi_B)*sinh(theta_B)*eta_AABF*eta_AAFB*eta_RRBF/2 - exp(-I*phi_B)*sinh(theta_B)*eta_RRBF, I*exp(-I*phi_F)*sin(theta_F)*eta_AABF*eta_RRFB - exp(-I*phi_B)*sinh(theta_B) - exp(-I*phi_B)*sinh(theta_B)*eta_AABF*eta_AAFB/2 - exp(-I*phi_B)*sinh(theta_B)*eta_AABF*eta_AAFB*eta_RRBF*eta_RRFB/4 - exp(-I*phi_B)*sinh(theta_B)*eta_RRBF*eta_RRFB/2]])"
      ]
     },
     "execution_count": 23,
     "metadata": {},
     "output_type": "execute_result"
    }
   ],
   "source": [
    "Q_AR = sort_products(expand(U_eta_AA_inv @ Q_0_AR @ U_eta_RR))\n",
    "Q_AR"
   ]
  },
  {
   "cell_type": "code",
   "execution_count": 24,
   "id": "a40e2698",
   "metadata": {
    "ExecuteTime": {
     "end_time": "2023-03-24T09:15:02.714263Z",
     "start_time": "2023-03-24T09:15:02.708025Z"
    }
   },
   "outputs": [],
   "source": [
    "def get_d(expr):\n",
    "    \"\"\"\n",
    "    Returns differential form of simple expr use var dict\n",
    "    \"\"\"\n",
    "    res = expr*0\n",
    "    for key in comute_var.keys():\n",
    "        res += diff(expr, comute_var[key][0])*comute_var[key][1]\n",
    "    for key in anticomute_var.keys():\n",
    "        res += expand(expr - expr.replace(anticomute_var[key][0],0)).replace(anticomute_var[key][0],anticomute_var[key][1])\n",
    "    return res"
   ]
  },
  {
   "cell_type": "code",
   "execution_count": 25,
   "id": "b560407b",
   "metadata": {
    "ExecuteTime": {
     "end_time": "2023-03-24T09:15:02.893821Z",
     "start_time": "2023-03-24T09:15:02.886778Z"
    }
   },
   "outputs": [],
   "source": [
    "def get_d_matr(matr):\n",
    "    \"\"\"\n",
    "    Returns differential form of 2x2 matrix\n",
    "    \"\"\"\n",
    "    res = zeros(2,2)\n",
    "    for i in range(2):\n",
    "        for j in range(2):\n",
    "            res[i,j] = get_d(matr[i,j])\n",
    "    return res"
   ]
  },
  {
   "cell_type": "code",
   "execution_count": 26,
   "id": "303ca23e",
   "metadata": {
    "ExecuteTime": {
     "end_time": "2023-03-24T09:15:03.430482Z",
     "start_time": "2023-03-24T09:15:03.026023Z"
    }
   },
   "outputs": [],
   "source": [
    "# get dQ\n",
    "dQ_RR = get_d_matr(Q_RR)\n",
    "dQ_AA = get_d_matr(Q_AA)\n",
    "dQ_RA = get_d_matr(Q_RA)\n",
    "dQ_AR = get_d_matr(Q_AR)"
   ]
  },
  {
   "cell_type": "code",
   "execution_count": 27,
   "id": "6cfe8ad2",
   "metadata": {
    "ExecuteTime": {
     "end_time": "2023-03-24T09:15:03.633006Z",
     "start_time": "2023-03-24T09:15:03.565192Z"
    }
   },
   "outputs": [],
   "source": [
    "res = (dQ_RR @ dQ_RR + dQ_AA @ dQ_AA + dQ_AR @ dQ_RA + dQ_RA @ dQ_AR) # expr under supertrace\n",
    "dl_sqr = res[0,0] - res[1,1]\n",
    "dl_sqr = sort_products(expand(dl_sqr))"
   ]
  },
  {
   "cell_type": "code",
   "execution_count": 60,
   "id": "e8a1eb22",
   "metadata": {
    "ExecuteTime": {
     "end_time": "2023-03-24T09:42:56.517091Z",
     "start_time": "2023-03-24T09:42:49.891422Z"
    }
   },
   "outputs": [
    {
     "name": "stdout",
     "output_type": "stream",
     "text": [
      "0 0\n",
      "0 1\n",
      "0 2\n",
      "0 3\n",
      "0 4\n",
      "0 5\n",
      "0 6\n",
      "0 7\n",
      "1 0\n",
      "1 1\n",
      "1 2\n",
      "1 3\n",
      "1 4\n",
      "1 5\n",
      "1 6\n",
      "1 7\n",
      "2 0\n",
      "2 1\n",
      "2 2\n",
      "2 3\n",
      "2 4\n",
      "2 5\n",
      "2 6\n",
      "2 7\n",
      "3 0\n",
      "3 1\n",
      "3 2\n",
      "3 3\n",
      "3 4\n",
      "3 5\n",
      "3 6\n",
      "3 7\n",
      "4 0\n",
      "4 1\n",
      "4 2\n",
      "4 3\n",
      "4 4\n",
      "4 5\n",
      "4 6\n",
      "4 7\n",
      "5 0\n",
      "5 1\n",
      "5 2\n",
      "5 3\n",
      "5 4\n",
      "5 5\n",
      "5 6\n",
      "5 7\n",
      "6 0\n",
      "6 1\n",
      "6 2\n",
      "6 3\n",
      "6 4\n",
      "6 5\n",
      "6 6\n",
      "6 7\n",
      "7 0\n",
      "7 1\n",
      "7 2\n",
      "7 3\n",
      "7 4\n",
      "7 5\n",
      "7 6\n",
      "7 7\n"
     ]
    }
   ],
   "source": [
    "# Make matrix of quadratic forms\n",
    "M_2 = zeros(8,8)\n",
    "i=0\n",
    "for key_i in anticomute_var.keys():\n",
    "    j=0\n",
    "    for key_j in anticomute_var.keys(): ## FF block\n",
    "        print(i,j)\n",
    "        if i<j:\n",
    "            expr=(dl_sqr - expand(dl_sqr.subs(anticomute_var[key_i][1],0)))\n",
    "            expr = expr - expr.subs(anticomute_var[key_j][1],0)\n",
    "            M_2[i,j] = -(factor(simplify(factor(expr)))/2).subs(anticomute_var[key_i][1],1).subs(anticomute_var[key_j][1],1)\n",
    "            # - due to contradiction of order of dictionary and alphabetic names\n",
    "            M_2[j,i] = -M_2[i,j] #symmetry\n",
    "        j+=1\n",
    "    for key_j in comute_var.keys(): ## FB & BF block\n",
    "        print(i,j)\n",
    "        if i<j:\n",
    "            expr=(dl_sqr - expand(dl_sqr.subs(anticomute_var[key_i][1],0)))\n",
    "            expr = expr - expr.subs(comute_var[key_j][1],0)\n",
    "            M_2[i,j] = (factor(simplify(factor(expr)))/2).subs(anticomute_var[key_i][1],1).subs(comute_var[key_j][1],1)\n",
    "            M_2[j,i] = - M_2[i,j] #symmetry\n",
    "        j+=1\n",
    "    i+=1\n",
    "\n",
    "for key_i in comute_var.keys(): ##\n",
    "    j=0\n",
    "    for key_j in anticomute_var.keys():\n",
    "        print(i,j)\n",
    "        j+=1\n",
    "    for key_j in comute_var.keys(): ## BB block\n",
    "        print(i,j)\n",
    "        if i<j:\n",
    "            expr=(dl_sqr - expand(dl_sqr.subs(comute_var[key_i][1],0)))\n",
    "            expr = expr - expr.subs(comute_var[key_j][1],0)\n",
    "            M_2[i,j] = factor(simplify(factor(expr)))/2\n",
    "            M_2[j,i] = factor(simplify(factor(expr)))/2\n",
    "        j+=1\n",
    "    i+=1 \n",
    "    \n",
    "    \n",
    "i = 4 \n",
    "for key_i in comute_var.keys(): ## diagonal of BB block\n",
    "    M_2[i,i] = diff(dl_sqr, comute_var[key_i][1], comute_var[key_i][1])/2\n",
    "    i+=1"
   ]
  },
  {
   "cell_type": "code",
   "execution_count": 61,
   "id": "5e33990e",
   "metadata": {
    "ExecuteTime": {
     "end_time": "2023-03-24T09:43:11.162362Z",
     "start_time": "2023-03-24T09:43:02.904381Z"
    }
   },
   "outputs": [],
   "source": [
    "M_2 = simplify(M_2)"
   ]
  },
  {
   "cell_type": "code",
   "execution_count": 62,
   "id": "6626917e",
   "metadata": {
    "ExecuteTime": {
     "end_time": "2023-03-24T09:43:11.978181Z",
     "start_time": "2023-03-24T09:43:11.936882Z"
    }
   },
   "outputs": [
    {
     "data": {
      "text/latex": [
       "$\\displaystyle \\left[\\begin{matrix}0 & \\frac{\\sin^{2}{\\left(\\theta_{F} \\right)} \\eta_{RRBF} \\eta_{RRFB} + 4 \\cos{\\left(\\theta_{F} \\right)} \\cosh{\\left(\\theta_{B} \\right)} + \\sinh^{2}{\\left(\\theta_{B} \\right)} \\eta_{RRBF} \\eta_{RRFB} - 4}{2} & - \\left(\\frac{\\cos^{2}{\\left(\\theta_{F} \\right)}}{2} - \\frac{\\cosh^{2}{\\left(\\theta_{B} \\right)}}{2}\\right) \\eta_{AABF} \\eta_{RRBF} & \\frac{- 4 i e^{i \\left(\\phi_{B} - \\phi_{F}\\right)} \\sin{\\left(\\theta_{F} \\right)} \\sinh{\\left(\\theta_{B} \\right)} + \\sin^{2}{\\left(\\theta_{F} \\right)} \\eta_{AAFB} \\eta_{RRBF} + \\sinh^{2}{\\left(\\theta_{B} \\right)} \\eta_{AAFB} \\eta_{RRBF}}{2}\\\\- \\frac{\\sin^{2}{\\left(\\theta_{F} \\right)} \\eta_{RRBF} \\eta_{RRFB} + 4 \\cos{\\left(\\theta_{F} \\right)} \\cosh{\\left(\\theta_{B} \\right)} + \\sinh^{2}{\\left(\\theta_{B} \\right)} \\eta_{RRBF} \\eta_{RRFB} - 4}{2} & 0 & \\frac{\\sin^{2}{\\left(\\theta_{F} \\right)} \\eta_{AABF} \\eta_{RRFB} + \\sinh^{2}{\\left(\\theta_{B} \\right)} \\eta_{AABF} \\eta_{RRFB} + 4 i e^{- i \\left(\\phi_{B} - \\phi_{F}\\right)} \\sin{\\left(\\theta_{F} \\right)} \\sinh{\\left(\\theta_{B} \\right)}}{2} & - \\left(\\frac{\\cos^{2}{\\left(\\theta_{F} \\right)}}{2} - \\frac{\\cosh^{2}{\\left(\\theta_{B} \\right)}}{2}\\right) \\eta_{AAFB} \\eta_{RRFB}\\\\\\left(\\frac{\\cos^{2}{\\left(\\theta_{F} \\right)}}{2} - \\frac{\\cosh^{2}{\\left(\\theta_{B} \\right)}}{2}\\right) \\eta_{AABF} \\eta_{RRBF} & - \\frac{\\sin^{2}{\\left(\\theta_{F} \\right)} \\eta_{AABF} \\eta_{RRFB} + \\sinh^{2}{\\left(\\theta_{B} \\right)} \\eta_{AABF} \\eta_{RRFB} + 4 i e^{- i \\left(\\phi_{B} - \\phi_{F}\\right)} \\sin{\\left(\\theta_{F} \\right)} \\sinh{\\left(\\theta_{B} \\right)}}{2} & 0 & \\frac{\\sin^{2}{\\left(\\theta_{F} \\right)} \\eta_{AABF} \\eta_{AAFB} + 4 \\cos{\\left(\\theta_{F} \\right)} \\cosh{\\left(\\theta_{B} \\right)} + \\sinh^{2}{\\left(\\theta_{B} \\right)} \\eta_{AABF} \\eta_{AAFB} - 4}{2}\\\\- \\frac{- 4 i e^{i \\left(\\phi_{B} - \\phi_{F}\\right)} \\sin{\\left(\\theta_{F} \\right)} \\sinh{\\left(\\theta_{B} \\right)} + \\sin^{2}{\\left(\\theta_{F} \\right)} \\eta_{AAFB} \\eta_{RRBF} + \\sinh^{2}{\\left(\\theta_{B} \\right)} \\eta_{AAFB} \\eta_{RRBF}}{2} & \\left(\\frac{\\cos^{2}{\\left(\\theta_{F} \\right)}}{2} - \\frac{\\cosh^{2}{\\left(\\theta_{B} \\right)}}{2}\\right) \\eta_{AAFB} \\eta_{RRFB} & - \\frac{\\sin^{2}{\\left(\\theta_{F} \\right)} \\eta_{AABF} \\eta_{AAFB} + 4 \\cos{\\left(\\theta_{F} \\right)} \\cosh{\\left(\\theta_{B} \\right)} + \\sinh^{2}{\\left(\\theta_{B} \\right)} \\eta_{AABF} \\eta_{AAFB} - 4}{2} & 0\\end{matrix}\\right]$"
      ],
      "text/plain": [
       "Matrix([\n",
       "[                                                                                                                                   0,                        (sin(theta_F)**2*eta_RRBF*eta_RRFB + 4*cos(theta_F)*cosh(theta_B) + sinh(theta_B)**2*eta_RRBF*eta_RRFB - 4)/2,                                                                         -(cos(theta_F)**2/2 - cosh(theta_B)**2/2)*eta_AABF*eta_RRBF, (-4*I*exp(I*(phi_B - phi_F))*sin(theta_F)*sinh(theta_B) + sin(theta_F)**2*eta_AAFB*eta_RRBF + sinh(theta_B)**2*eta_AAFB*eta_RRBF)/2],\n",
       "[                      -(sin(theta_F)**2*eta_RRBF*eta_RRFB + 4*cos(theta_F)*cosh(theta_B) + sinh(theta_B)**2*eta_RRBF*eta_RRFB - 4)/2,                                                                                                                                    0, (sin(theta_F)**2*eta_AABF*eta_RRFB + sinh(theta_B)**2*eta_AABF*eta_RRFB + 4*I*exp(-I*(phi_B - phi_F))*sin(theta_F)*sinh(theta_B))/2,                                                                         -(cos(theta_F)**2/2 - cosh(theta_B)**2/2)*eta_AAFB*eta_RRFB],\n",
       "[                                                                          (cos(theta_F)**2/2 - cosh(theta_B)**2/2)*eta_AABF*eta_RRBF, -(sin(theta_F)**2*eta_AABF*eta_RRFB + sinh(theta_B)**2*eta_AABF*eta_RRFB + 4*I*exp(-I*(phi_B - phi_F))*sin(theta_F)*sinh(theta_B))/2,                                                                                                                                   0,                       (sin(theta_F)**2*eta_AABF*eta_AAFB + 4*cos(theta_F)*cosh(theta_B) + sinh(theta_B)**2*eta_AABF*eta_AAFB - 4)/2],\n",
       "[-(-4*I*exp(I*(phi_B - phi_F))*sin(theta_F)*sinh(theta_B) + sin(theta_F)**2*eta_AAFB*eta_RRBF + sinh(theta_B)**2*eta_AAFB*eta_RRBF)/2,                                                                           (cos(theta_F)**2/2 - cosh(theta_B)**2/2)*eta_AAFB*eta_RRFB,                      -(sin(theta_F)**2*eta_AABF*eta_AAFB + 4*cos(theta_F)*cosh(theta_B) + sinh(theta_B)**2*eta_AABF*eta_AAFB - 4)/2,                                                                                                                                   0]])"
      ]
     },
     "execution_count": 62,
     "metadata": {},
     "output_type": "execute_result"
    }
   ],
   "source": [
    "M_2_FF = M_2[:4,:4]\n",
    "M_2_FF"
   ]
  },
  {
   "cell_type": "code",
   "execution_count": 63,
   "id": "18244909",
   "metadata": {
    "ExecuteTime": {
     "end_time": "2023-03-24T09:43:24.200943Z",
     "start_time": "2023-03-24T09:43:24.188137Z"
    }
   },
   "outputs": [
    {
     "data": {
      "text/latex": [
       "$\\displaystyle \\left[\\begin{matrix}2 & 0 & 0 & 0\\\\0 & 2 & 0 & 0\\\\0 & 0 & 2 \\sin^{2}{\\left(\\theta_{F} \\right)} & 0\\\\0 & 0 & 0 & 2 \\sinh^{2}{\\left(\\theta_{B} \\right)}\\end{matrix}\\right]$"
      ],
      "text/plain": [
       "Matrix([\n",
       "[2, 0,                 0,                  0],\n",
       "[0, 2,                 0,                  0],\n",
       "[0, 0, 2*sin(theta_F)**2,                  0],\n",
       "[0, 0,                 0, 2*sinh(theta_B)**2]])"
      ]
     },
     "execution_count": 63,
     "metadata": {},
     "output_type": "execute_result"
    }
   ],
   "source": [
    "M_2_BB = M_2[4:,4:]\n",
    "M_2_BB"
   ]
  },
  {
   "cell_type": "code",
   "execution_count": 64,
   "id": "376bc7ff",
   "metadata": {
    "ExecuteTime": {
     "end_time": "2023-03-24T09:43:27.490157Z",
     "start_time": "2023-03-24T09:43:27.472393Z"
    }
   },
   "outputs": [
    {
     "data": {
      "text/latex": [
       "$\\displaystyle \\left[\\begin{matrix}0 & 0 & - i \\sin^{2}{\\left(\\theta_{F} \\right)} \\eta_{RRBF} & - i \\sinh^{2}{\\left(\\theta_{B} \\right)} \\eta_{RRBF}\\\\0 & 0 & - i \\sin^{2}{\\left(\\theta_{F} \\right)} \\eta_{RRFB} & - i \\sinh^{2}{\\left(\\theta_{B} \\right)} \\eta_{RRFB}\\\\0 & 0 & i \\sin^{2}{\\left(\\theta_{F} \\right)} \\eta_{AABF} & i \\sinh^{2}{\\left(\\theta_{B} \\right)} \\eta_{AABF}\\\\0 & 0 & i \\sin^{2}{\\left(\\theta_{F} \\right)} \\eta_{AAFB} & i \\sinh^{2}{\\left(\\theta_{B} \\right)} \\eta_{AAFB}\\end{matrix}\\right]$"
      ],
      "text/plain": [
       "Matrix([\n",
       "[0, 0, -I*sin(theta_F)**2*eta_RRBF, -I*sinh(theta_B)**2*eta_RRBF],\n",
       "[0, 0, -I*sin(theta_F)**2*eta_RRFB, -I*sinh(theta_B)**2*eta_RRFB],\n",
       "[0, 0,  I*sin(theta_F)**2*eta_AABF,  I*sinh(theta_B)**2*eta_AABF],\n",
       "[0, 0,  I*sin(theta_F)**2*eta_AAFB,  I*sinh(theta_B)**2*eta_AAFB]])"
      ]
     },
     "execution_count": 64,
     "metadata": {},
     "output_type": "execute_result"
    }
   ],
   "source": [
    "M_2_FB = M_2[:4,4:]\n",
    "M_2_FB"
   ]
  },
  {
   "cell_type": "code",
   "execution_count": 65,
   "id": "4a1a2bfd",
   "metadata": {
    "ExecuteTime": {
     "end_time": "2023-03-24T09:43:29.780188Z",
     "start_time": "2023-03-24T09:43:29.764787Z"
    }
   },
   "outputs": [
    {
     "data": {
      "text/latex": [
       "$\\displaystyle \\left[\\begin{matrix}0 & 0 & 0 & 0\\\\0 & 0 & 0 & 0\\\\i \\sin^{2}{\\left(\\theta_{F} \\right)} \\eta_{RRBF} & i \\sin^{2}{\\left(\\theta_{F} \\right)} \\eta_{RRFB} & - i \\sin^{2}{\\left(\\theta_{F} \\right)} \\eta_{AABF} & - i \\sin^{2}{\\left(\\theta_{F} \\right)} \\eta_{AAFB}\\\\i \\sinh^{2}{\\left(\\theta_{B} \\right)} \\eta_{RRBF} & i \\sinh^{2}{\\left(\\theta_{B} \\right)} \\eta_{RRFB} & - i \\sinh^{2}{\\left(\\theta_{B} \\right)} \\eta_{AABF} & - i \\sinh^{2}{\\left(\\theta_{B} \\right)} \\eta_{AAFB}\\end{matrix}\\right]$"
      ],
      "text/plain": [
       "Matrix([\n",
       "[                          0,                           0,                            0,                            0],\n",
       "[                          0,                           0,                            0,                            0],\n",
       "[ I*sin(theta_F)**2*eta_RRBF,  I*sin(theta_F)**2*eta_RRFB,  -I*sin(theta_F)**2*eta_AABF,  -I*sin(theta_F)**2*eta_AAFB],\n",
       "[I*sinh(theta_B)**2*eta_RRBF, I*sinh(theta_B)**2*eta_RRFB, -I*sinh(theta_B)**2*eta_AABF, -I*sinh(theta_B)**2*eta_AAFB]])"
      ]
     },
     "execution_count": 65,
     "metadata": {},
     "output_type": "execute_result"
    }
   ],
   "source": [
    "M_2_BF = M_2[4:,:4]\n",
    "M_2_BF"
   ]
  },
  {
   "cell_type": "markdown",
   "id": "0c8383b6",
   "metadata": {},
   "source": [
    "$$\n",
    "sdet M = \\frac{det(M_{FF} - M_{FB}M_{BB}^{-1}M_{BF})}{det M_{BB}}\n",
    "$$"
   ]
  },
  {
   "cell_type": "code",
   "execution_count": 66,
   "id": "6768cff2",
   "metadata": {
    "ExecuteTime": {
     "end_time": "2023-03-24T09:43:33.555122Z",
     "start_time": "2023-03-24T09:43:33.344498Z"
    }
   },
   "outputs": [],
   "source": [
    "ch_mat = (sort_products(expand((M_2_FF - M_2_FB @ M_2_BB.inv() @ M_2_BF)))) ## matrix in numerator\n",
    "ch_mat = simplify(ch_mat)\n",
    "ch_mat"
   ]
  },
  {
   "cell_type": "code",
   "execution_count": 71,
   "id": "c2f49138",
   "metadata": {
    "ExecuteTime": {
     "end_time": "2023-03-24T09:44:33.909944Z",
     "start_time": "2023-03-24T09:44:33.533562Z"
    }
   },
   "outputs": [
    {
     "data": {
      "text/latex": [
       "$\\displaystyle 16 \\left(\\sin^{2}{\\left(\\theta_{F} \\right)} \\sinh^{2}{\\left(\\theta_{B} \\right)} + \\cos^{2}{\\left(\\theta_{F} \\right)} \\cosh^{2}{\\left(\\theta_{B} \\right)} - 2 \\cos{\\left(\\theta_{F} \\right)} \\cosh{\\left(\\theta_{B} \\right)} + 1\\right)^{2}$"
      ],
      "text/plain": [
       "16*(sin(theta_F)**2*sinh(theta_B)**2 + cos(theta_F)**2*cosh(theta_B)**2 - 2*cos(theta_F)*cosh(theta_B) + 1)**2"
      ]
     },
     "execution_count": 71,
     "metadata": {},
     "output_type": "execute_result"
    }
   ],
   "source": [
    "factor(ch_mat.det())"
   ]
  },
  {
   "cell_type": "code",
   "execution_count": 73,
   "id": "53cd824a",
   "metadata": {
    "ExecuteTime": {
     "end_time": "2023-03-24T09:45:08.228684Z",
     "start_time": "2023-03-24T09:45:07.902554Z"
    }
   },
   "outputs": [
    {
     "data": {
      "text/latex": [
       "$\\displaystyle \\frac{\\left|{\\sin{\\left(\\theta_{F} \\right)}}\\right| \\left|{\\sinh{\\left(\\theta_{B} \\right)}}\\right|}{\\left|{\\sin^{2}{\\left(\\theta_{F} \\right)} \\sinh^{2}{\\left(\\theta_{B} \\right)} + \\cos^{2}{\\left(\\theta_{F} \\right)} \\cosh^{2}{\\left(\\theta_{B} \\right)} - 2 \\cos{\\left(\\theta_{F} \\right)} \\cosh{\\left(\\theta_{B} \\right)} + 1}\\right|}$"
      ],
      "text/plain": [
       "Abs(sin(theta_F))*Abs(sinh(theta_B))/Abs(sin(theta_F)**2*sinh(theta_B)**2 + cos(theta_F)**2*cosh(theta_B)**2 - 2*cos(theta_F)*cosh(theta_B) + 1)"
      ]
     },
     "execution_count": 73,
     "metadata": {},
     "output_type": "execute_result"
    }
   ],
   "source": [
    "sqrt(M_2_BB.det()/factor(ch_mat.det()))"
   ]
  },
  {
   "cell_type": "code",
   "execution_count": 80,
   "id": "b9f2dcd9",
   "metadata": {
    "ExecuteTime": {
     "end_time": "2023-03-24T09:50:03.565269Z",
     "start_time": "2023-03-24T09:50:02.538641Z"
    }
   },
   "outputs": [
    {
     "data": {
      "text/latex": [
       "$\\displaystyle \\left|{\\frac{\\sin{\\left(\\theta_{F} \\right)} \\sinh{\\left(\\theta_{B} \\right)}}{\\left(\\cos{\\left(\\theta_{F} \\right)} - \\cosh{\\left(\\theta_{B} \\right)}\\right)^{2}}}\\right|$"
      ],
      "text/plain": [
       "Abs(sin(theta_F)*sinh(theta_B)/(cos(theta_F) - cosh(theta_B))**2)"
      ]
     },
     "execution_count": 80,
     "metadata": {},
     "output_type": "execute_result"
    }
   ],
   "source": [
    "simplify((sqrt(M_2_BB.det()/factor(ch_mat.det()))).replace(sinh(theta_B)**2, cosh(theta_B)**2-1).replace(sin(theta_F)**2, 1-cos(theta_F)**2))"
   ]
  },
  {
   "cell_type": "code",
   "execution_count": 82,
   "id": "bf7258a1",
   "metadata": {
    "ExecuteTime": {
     "end_time": "2023-03-24T10:22:03.970901Z",
     "start_time": "2023-03-24T10:22:03.447299Z"
    }
   },
   "outputs": [
    {
     "name": "stdout",
     "output_type": "stream",
     "text": [
      "\\left|{\\frac{\\sin{\\left(\\theta_{F} \\right)} \\sinh{\\left(\\theta_{B} \\right)}}{\\left(\\cos{\\left(\\theta_{F} \\right)} - \\cosh{\\left(\\theta_{B} \\right)}\\right)^{2}}}\\right|\n"
     ]
    }
   ],
   "source": [
    "print(latex(simplify((sqrt(M_2_BB.det()/factor(ch_mat.det()))).replace(sinh(theta_B)**2, \n",
    "                                                                       cosh(theta_B)**2-1).replace(sin(theta_F)**2, 1-cos(theta_F)**2))))"
   ]
  },
  {
   "cell_type": "markdown",
   "id": "2d27b669",
   "metadata": {},
   "source": [
    "Therefore $J$ is:\n",
    "\n",
    "$$\n",
    "J = \\left|{\\frac{\\sin{\\left(\\theta_{F} \\right)} \\sinh{\\left(\\theta_{B} \\right)}}{\\left(\\cos{\\left(\\theta_{F} \\right)} - \\cosh{\\left(\\theta_{B} \\right)}\\right)^{2}}}\\right|\n",
    "$$"
   ]
  }
 ],
 "metadata": {
  "kernelspec": {
   "display_name": "Python 3 (ipykernel)",
   "language": "python",
   "name": "python3"
  },
  "language_info": {
   "codemirror_mode": {
    "name": "ipython",
    "version": 3
   },
   "file_extension": ".py",
   "mimetype": "text/x-python",
   "name": "python",
   "nbconvert_exporter": "python",
   "pygments_lexer": "ipython3",
   "version": "3.8.15"
  },
  "latex_envs": {
   "LaTeX_envs_menu_present": true,
   "autoclose": true,
   "autocomplete": false,
   "bibliofile": "biblio.bib",
   "cite_by": "apalike",
   "current_citInitial": 1,
   "eqLabelWithNumbers": true,
   "eqNumInitial": 1,
   "hotkeys": {
    "equation": "Ctrl-E",
    "itemize": "Ctrl-I"
   },
   "labels_anchors": false,
   "latex_user_defs": false,
   "report_style_numbering": false,
   "user_envs_cfg": false
  },
  "toc": {
   "base_numbering": 1,
   "nav_menu": {},
   "number_sections": true,
   "sideBar": true,
   "skip_h1_title": false,
   "title_cell": "Table of Contents",
   "title_sidebar": "Contents",
   "toc_cell": false,
   "toc_position": {},
   "toc_section_display": true,
   "toc_window_display": false
  }
 },
 "nbformat": 4,
 "nbformat_minor": 5
}
