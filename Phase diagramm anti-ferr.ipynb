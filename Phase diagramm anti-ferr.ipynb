{
 "cells": [
  {
   "cell_type": "code",
   "execution_count": 1,
   "id": "1021e60d",
   "metadata": {},
   "outputs": [],
   "source": [
    "from sympy import *"
   ]
  },
  {
   "cell_type": "code",
   "execution_count": 49,
   "id": "85041575",
   "metadata": {},
   "outputs": [],
   "source": [
    "import numpy as np"
   ]
  },
  {
   "cell_type": "code",
   "execution_count": 67,
   "id": "86fa4ae7",
   "metadata": {},
   "outputs": [],
   "source": [
    "import matplotlib.pyplot as plt"
   ]
  },
  {
   "cell_type": "code",
   "execution_count": 4,
   "id": "8a45e944",
   "metadata": {},
   "outputs": [],
   "source": [
    "J_2, J_3, eta = symbols('J_2 J_3 eta')"
   ]
  },
  {
   "cell_type": "code",
   "execution_count": 5,
   "id": "570f0203",
   "metadata": {},
   "outputs": [],
   "source": [
    "eta_b = - (1+4*J_2)/(4*J_2+8*J_3)"
   ]
  },
  {
   "cell_type": "code",
   "execution_count": 6,
   "id": "63fd68d8",
   "metadata": {},
   "outputs": [
    {
     "data": {
      "text/latex": [
       "$\\displaystyle \\frac{- 4 J_{2} - 1}{4 J_{2} + 8 J_{3}}$"
      ],
      "text/plain": [
       "(-4*J_2 - 1)/(4*J_2 + 8*J_3)"
      ]
     },
     "execution_count": 6,
     "metadata": {},
     "output_type": "execute_result"
    }
   ],
   "source": [
    "eta_b"
   ]
  },
  {
   "cell_type": "code",
   "execution_count": 15,
   "id": "03e9b3db",
   "metadata": {},
   "outputs": [],
   "source": [
    "E_b = (2*eta+1) + J_2*4*(eta**2+2*eta) + J_3*8*eta**2"
   ]
  },
  {
   "cell_type": "code",
   "execution_count": 16,
   "id": "fe0e7034",
   "metadata": {},
   "outputs": [],
   "source": [
    "E_b_star = simplify(E_b.subs(eta, eta_b))"
   ]
  },
  {
   "cell_type": "code",
   "execution_count": 42,
   "id": "21b5b086",
   "metadata": {},
   "outputs": [
    {
     "data": {
      "text/latex": [
       "$\\displaystyle \\frac{- 4 J_{2}^{2} - J_{2} + 2 J_{3} - \\frac{1}{4}}{J_{2} + 2 J_{3}}$"
      ],
      "text/plain": [
       "(-4*J_2**2 - J_2 + 2*J_3 - 1/4)/(J_2 + 2*J_3)"
      ]
     },
     "execution_count": 42,
     "metadata": {},
     "output_type": "execute_result"
    }
   ],
   "source": [
    "E_b_star"
   ]
  },
  {
   "cell_type": "code",
   "execution_count": 17,
   "id": "307bfd03",
   "metadata": {},
   "outputs": [],
   "source": [
    "E_a_bound = 1 - 4*J_2-8*J_3"
   ]
  },
  {
   "cell_type": "code",
   "execution_count": 18,
   "id": "1e8a643b",
   "metadata": {},
   "outputs": [],
   "source": [
    "E_b_bound = E_b.subs(eta, -1)"
   ]
  },
  {
   "cell_type": "code",
   "execution_count": 20,
   "id": "a3b53104",
   "metadata": {},
   "outputs": [
    {
     "data": {
      "text/latex": [
       "$\\displaystyle - 4 J_{2} + 8 J_{3} - 1$"
      ],
      "text/plain": [
       "-4*J_2 + 8*J_3 - 1"
      ]
     },
     "execution_count": 20,
     "metadata": {},
     "output_type": "execute_result"
    }
   ],
   "source": [
    "E_b_bound"
   ]
  },
  {
   "cell_type": "code",
   "execution_count": 21,
   "id": "a8730ce1",
   "metadata": {},
   "outputs": [],
   "source": [
    "E_c = 3*eta + 12*J_2*eta**2 + 8*J_3*eta**3"
   ]
  },
  {
   "cell_type": "code",
   "execution_count": 23,
   "id": "033d7cef",
   "metadata": {},
   "outputs": [],
   "source": [
    "E_c_bound = simplify(E_c.subs(eta, -1))"
   ]
  },
  {
   "cell_type": "code",
   "execution_count": 24,
   "id": "4ee6620e",
   "metadata": {},
   "outputs": [
    {
     "data": {
      "text/latex": [
       "$\\displaystyle 12 J_{2} - 8 J_{3} - 3$"
      ],
      "text/plain": [
       "12*J_2 - 8*J_3 - 3"
      ]
     },
     "execution_count": 24,
     "metadata": {},
     "output_type": "execute_result"
    }
   ],
   "source": [
    "E_c_bound"
   ]
  },
  {
   "cell_type": "code",
   "execution_count": 30,
   "id": "a844b296",
   "metadata": {},
   "outputs": [],
   "source": [
    "eta_c = solve(diff(E_c, eta), eta)\n",
    "eta_c_1 = eta_c[0]\n",
    "eta_c_2 = eta_c[1]"
   ]
  },
  {
   "cell_type": "code",
   "execution_count": 31,
   "id": "0a0230df",
   "metadata": {},
   "outputs": [
    {
     "data": {
      "text/latex": [
       "$\\displaystyle \\frac{- \\frac{J_{2}}{2} + \\frac{\\sqrt{4 J_{2}^{2} - 2 J_{3}}}{4}}{J_{3}}$"
      ],
      "text/plain": [
       "(-J_2/2 + sqrt(4*J_2**2 - 2*J_3)/4)/J_3"
      ]
     },
     "execution_count": 31,
     "metadata": {},
     "output_type": "execute_result"
    }
   ],
   "source": [
    "eta_c_1"
   ]
  },
  {
   "cell_type": "code",
   "execution_count": 32,
   "id": "640acefa",
   "metadata": {},
   "outputs": [
    {
     "data": {
      "text/latex": [
       "$\\displaystyle - \\frac{\\frac{J_{2}}{2} + \\frac{\\sqrt{4 J_{2}^{2} - 2 J_{3}}}{4}}{J_{3}}$"
      ],
      "text/plain": [
       "-(J_2/2 + sqrt(4*J_2**2 - 2*J_3)/4)/J_3"
      ]
     },
     "execution_count": 32,
     "metadata": {},
     "output_type": "execute_result"
    }
   ],
   "source": [
    "eta_c_2"
   ]
  },
  {
   "cell_type": "code",
   "execution_count": 39,
   "id": "1ecc3f9d",
   "metadata": {},
   "outputs": [
    {
     "data": {
      "text/latex": [
       "$\\displaystyle \\frac{2 J_{2}^{3} - J_{2}^{2} \\sqrt{4 J_{2}^{2} - 2 J_{3}} - \\frac{3 J_{2} J_{3}}{2} + \\frac{J_{3} \\sqrt{4 J_{2}^{2} - 2 J_{3}}}{2}}{J_{3}^{2}}$"
      ],
      "text/plain": [
       "(2*J_2**3 - J_2**2*sqrt(4*J_2**2 - 2*J_3) - 3*J_2*J_3/2 + J_3*sqrt(4*J_2**2 - 2*J_3)/2)/J_3**2"
      ]
     },
     "execution_count": 39,
     "metadata": {},
     "output_type": "execute_result"
    }
   ],
   "source": [
    "E_star_c_1 = simplify(E_c.subs(eta,eta_c_1))\n",
    "simplify(factor(E_star_c_1))"
   ]
  },
  {
   "cell_type": "code",
   "execution_count": 40,
   "id": "adcbf5df",
   "metadata": {},
   "outputs": [
    {
     "data": {
      "text/latex": [
       "$\\displaystyle \\frac{2 J_{2}^{3} + J_{2}^{2} \\sqrt{4 J_{2}^{2} - 2 J_{3}} - \\frac{3 J_{2} J_{3}}{2} - \\frac{J_{3} \\sqrt{4 J_{2}^{2} - 2 J_{3}}}{2}}{J_{3}^{2}}$"
      ],
      "text/plain": [
       "(2*J_2**3 + J_2**2*sqrt(4*J_2**2 - 2*J_3) - 3*J_2*J_3/2 - J_3*sqrt(4*J_2**2 - 2*J_3)/2)/J_3**2"
      ]
     },
     "execution_count": 40,
     "metadata": {},
     "output_type": "execute_result"
    }
   ],
   "source": [
    "E_star_c_2 = simplify(E_c.subs(eta,eta_c_2))\n",
    "simplify(factor(E_star_c_2))"
   ]
  },
  {
   "cell_type": "code",
   "execution_count": 41,
   "id": "0e15d513",
   "metadata": {},
   "outputs": [
    {
     "data": {
      "text/latex": [
       "$\\displaystyle 12 J_{2} - 8 J_{3} - 3$"
      ],
      "text/plain": [
       "12*J_2 - 8*J_3 - 3"
      ]
     },
     "execution_count": 41,
     "metadata": {},
     "output_type": "execute_result"
    }
   ],
   "source": [
    "E_c_bound"
   ]
  },
  {
   "cell_type": "code",
   "execution_count": 43,
   "id": "77cd0f06",
   "metadata": {},
   "outputs": [
    {
     "data": {
      "text/latex": [
       "$\\displaystyle - 4 J_{2} - 8 J_{3} + 1$"
      ],
      "text/plain": [
       "-4*J_2 - 8*J_3 + 1"
      ]
     },
     "execution_count": 43,
     "metadata": {},
     "output_type": "execute_result"
    }
   ],
   "source": [
    "E_a_bound"
   ]
  },
  {
   "cell_type": "code",
   "execution_count": 44,
   "id": "3ca8cd11",
   "metadata": {},
   "outputs": [
    {
     "data": {
      "text/latex": [
       "$\\displaystyle - 4 J_{2} + 8 J_{3} - 1$"
      ],
      "text/plain": [
       "-4*J_2 + 8*J_3 - 1"
      ]
     },
     "execution_count": 44,
     "metadata": {},
     "output_type": "execute_result"
    }
   ],
   "source": [
    "E_b_bound"
   ]
  },
  {
   "cell_type": "code",
   "execution_count": 71,
   "id": "00d0066b",
   "metadata": {},
   "outputs": [],
   "source": [
    "colors = ['black', 'blue', 'darkblue']# 'purple', 'green', 'crimson']\n",
    "names = ['a_bound', 'b_bound', 'c_bound', 'b_star', 'c_star_1', 'c_star_2']"
   ]
  },
  {
   "cell_type": "code",
   "execution_count": 79,
   "id": "38d8cf32",
   "metadata": {},
   "outputs": [],
   "source": [
    "Energyes = Matrix([E_a_bound, E_b_bound, E_c_bound])#, E_b_star, E_star_c_1, E_star_c_2])"
   ]
  },
  {
   "cell_type": "code",
   "execution_count": 103,
   "id": "d6b2ba8d",
   "metadata": {},
   "outputs": [
    {
     "data": {
      "text/plain": [
       "<matplotlib.legend.Legend at 0x7f88d2028f70>"
      ]
     },
     "execution_count": 103,
     "metadata": {},
     "output_type": "execute_result"
    },
    {
     "data": {
      "image/png": "[encoded data removed]",
      "text/plain": [
       "<Figure size 432x288 with 1 Axes>"
      ]
     },
     "metadata": {
      "needs_background": "light"
     },
     "output_type": "display_data"
    }
   ],
   "source": [
    "J_2_sample = np.linspace(0.001,2, 50)\n",
    "J_3_sample = np.linspace(0.001,2, 50)\n",
    "plt.figure()\n",
    "for j_2 in J_2_sample:\n",
    "    for j_3 in J_3_sample:\n",
    "        #print()\n",
    "        egs = np.array(Energyes.evalf(subs={J_2:j_2, J_3:j_3}), dtype=np.float64).reshape(-1)\n",
    "        color= colors\n",
    "        if abs(eta_b.evalf(subs={J_2:j_2, J_3:j_3}))<1:\n",
    "            egs = np.append(egs, (E_b_star.evalf(subs={J_2:j_2, J_3:j_3})))\n",
    "            color.append('purple')\n",
    "        if 2*j_2**2>j_3:\n",
    "                if abs(eta_c_1.evalf(subs={J_2:j_2, J_3:j_3}))<1:\n",
    "                    egs = np.append(egs, (E_star_c_1.evalf(subs={J_2:j_2, J_3:j_3})))\n",
    "                    color.append('green')\n",
    "                if abs(eta_c_2.evalf(subs={J_2:j_2, J_3:j_3}))<1:\n",
    "                    egs = np.append(egs, (E_star_c_2.evalf(subs={J_2:j_2, J_3:j_3})))\n",
    "                    color.append('crimson')                \n",
    "        index = np.argmin(egs)\n",
    "        plt.scatter(j_2,j_3, c=color[index])\n",
    "plt.xlabel(r'$J_2$')\n",
    "plt.ylabel(r'$J_3$')\n",
    "plt.scatter(-1,0,label='a_bound', c='black')\n",
    "plt.scatter(-1,1,label='b_bound', c='blue')\n",
    "plt.scatter(-1,2,label='c_bound', c='darkblue')\n",
    "plt.xlim(0,2)\n",
    "\n",
    "plt.legend()"
   ]
  },
  {
   "cell_type": "markdown",
   "id": "117d91a0",
   "metadata": {},
   "source": [
    "Поэтому достаточно сравнивать граничные энергии"
   ]
  },
  {
   "cell_type": "code",
   "execution_count": 104,
   "id": "ab04bc97",
   "metadata": {},
   "outputs": [
    {
     "data": {
      "text/latex": [
       "$\\displaystyle - 4 J_{2} - 8 J_{3} + 1$"
      ],
      "text/plain": [
       "-4*J_2 - 8*J_3 + 1"
      ]
     },
     "execution_count": 104,
     "metadata": {},
     "output_type": "execute_result"
    }
   ],
   "source": [
    "E_a_bound"
   ]
  },
  {
   "cell_type": "code",
   "execution_count": 105,
   "id": "af145a4d",
   "metadata": {},
   "outputs": [
    {
     "data": {
      "text/latex": [
       "$\\displaystyle - 4 J_{2} + 8 J_{3} - 1$"
      ],
      "text/plain": [
       "-4*J_2 + 8*J_3 - 1"
      ]
     },
     "execution_count": 105,
     "metadata": {},
     "output_type": "execute_result"
    }
   ],
   "source": [
    "E_b_bound"
   ]
  },
  {
   "cell_type": "code",
   "execution_count": 106,
   "id": "24e69f44",
   "metadata": {},
   "outputs": [
    {
     "data": {
      "text/latex": [
       "$\\displaystyle 12 J_{2} - 8 J_{3} - 3$"
      ],
      "text/plain": [
       "12*J_2 - 8*J_3 - 3"
      ]
     },
     "execution_count": 106,
     "metadata": {},
     "output_type": "execute_result"
    }
   ],
   "source": [
    "E_c_bound"
   ]
  },
  {
   "cell_type": "markdown",
   "id": "9e36a5c0",
   "metadata": {},
   "source": [
    "Граница a & b:\n",
    "$J_3 = 1/8$\n",
    "\n",
    "Граница a & c:\n",
    "$J_2 = 1/4$\n",
    "\n",
    "Граница b & c:\n",
    "$J_2 - J_3 = 1/8$"
   ]
  }
 ],
 "metadata": {
  "kernelspec": {
   "display_name": "Python 3",
   "language": "python",
   "name": "python3"
  },
  "language_info": {
   "codemirror_mode": {
    "name": "ipython",
    "version": 3
   },
   "file_extension": ".py",
   "mimetype": "text/x-python",
   "name": "python",
   "nbconvert_exporter": "python",
   "pygments_lexer": "ipython3",
   "version": "3.8.8"
  }
 },
 "nbformat": 4,
 "nbformat_minor": 5
}
